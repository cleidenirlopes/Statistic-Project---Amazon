{
 "cells": [
  {
   "cell_type": "markdown",
   "metadata": {},
   "source": [
    "# EDA and Data Cleaning"
   ]
  },
  {
   "cell_type": "markdown",
   "metadata": {},
   "source": [
    "### Merge the dataset part 1 and part 2"
   ]
  },
  {
   "cell_type": "markdown",
   "metadata": {},
   "source": [
    "### EDA  Exploratory Data Analises PART 01"
   ]
  },
  {
   "cell_type": "code",
   "execution_count": 48,
   "metadata": {},
   "outputs": [
    {
     "name": "stderr",
     "output_type": "stream",
     "text": [
      "C:\\Users\\cleid\\AppData\\Local\\Temp\\ipykernel_30036\\1270455768.py:12: DtypeWarning: Columns (6,7,12) have mixed types. Specify dtype option on import or set low_memory=False.\n",
      "  Combined_Final_Web_Data = pd.read_csv(r\"D:\\Project\\Statistic Project Amazon\\Statistic-Project---Amazon\\df_test_sorted.csv\")\n"
     ]
    }
   ],
   "source": [
    "import pandas as pd\n",
    "import numpy as np\n",
    "from tabulate import tabulate\n",
    "import re\n",
    "import hashlib\n",
    "import os\n",
    "from datetime import datetime\n",
    "\n",
    "# Load the datasets\n",
    "# df_final_demo = pd.read_csv(r\"D:\\Project\\Statistic Project Amazon\\Statistic-Project---Amazon\\df_final_demo.csv\")\n",
    "# df_final_ex_clients = pd.read_csv(r\"D:\\Project\\Statistic Project Amazon\\Statistic-Project---Amazon\\df_final_experiment_clients.csv\")\n",
    "Combined_Final_Web_Data = pd.read_csv(r\"D:\\Project\\Statistic Project Amazon\\Statistic-Project---Amazon\\df_test_sorted.csv\")\n",
    "\n"
   ]
  },
  {
   "cell_type": "markdown",
   "metadata": {},
   "source": [
    "### Display Column Names for Each Dataset"
   ]
  },
  {
   "cell_type": "code",
   "execution_count": 49,
   "metadata": {},
   "outputs": [
    {
     "name": "stdout",
     "output_type": "stream",
     "text": [
      "Data Types in Combined Final_Web_Data:\n",
      "+----------------------+-----------+\n",
      "|     Column Names     | Data Type |\n",
      "+----------------------+-----------+\n",
      "|      client_id       |   int64   |\n",
      "|      visitor_id      |  object   |\n",
      "|       visit_id       |  object   |\n",
      "|     process_step     |  object   |\n",
      "|      date_time       |  object   |\n",
      "|      Variation       |  object   |\n",
      "|   Time_Difference    |  object   |\n",
      "|    Count_in_Days     |  object   |\n",
      "|   Error_Indicator    |  float64  |\n",
      "|  Client Tenure Year  |  float64  |\n",
      "| Client Tenure Montly |  float64  |\n",
      "|      Client Age      |  float64  |\n",
      "|    Client Gender     |  object   |\n",
      "|      Num Accts       |  float64  |\n",
      "|       Balance        |  float64  |\n",
      "|   Calls 6 Monthly    |  float64  |\n",
      "|   Logons 6 Monthly   |  float64  |\n",
      "+----------------------+-----------+\n"
     ]
    }
   ],
   "source": [
    "print(\"Data Types in Combined Final_Web_Data:\")\n",
    "print(tabulate([[col, Combined_Final_Web_Data[col].dtype] for col in Combined_Final_Web_Data.columns], headers=[\"Column Names\", \"Data Type\"], tablefmt=\"pretty\"))\n"
   ]
  },
  {
   "cell_type": "code",
   "execution_count": 45,
   "metadata": {},
   "outputs": [],
   "source": [
    "\n",
    "import pandas as pd\n",
    "\n",
    "# Ensure proper conversions with fallback for invalid data\n",
    "Combined_Final_Web_Data['Client_ID'] = pd.to_numeric(Combined_Final_Web_Data['Client_ID'], errors='coerce').fillna(0).astype('int64')\n",
    "Combined_Final_Web_Data['Visitor_ID'] = pd.to_numeric(Combined_Final_Web_Data['Visitor_ID'], errors='coerce').fillna(0).astype('int64')\n",
    "Combined_Final_Web_Data['Visit_ID'] = pd.to_numeric(Combined_Final_Web_Data['Visit_ID'], errors='coerce').fillna(0).astype('int64')\n",
    "Combined_Final_Web_Data['Process_Step'] = Combined_Final_Web_Data['Process_Step'].astype('object')\n",
    "Combined_Final_Web_Data['Step_Number'] = pd.to_numeric(Combined_Final_Web_Data['Step_Number'], errors='coerce').fillna(0).astype('int64')\n",
    "Combined_Final_Web_Data['Sorting'] = pd.to_numeric(Combined_Final_Web_Data['Sorting'], errors='coerce').fillna(0).astype('int64')\n",
    "Combined_Final_Web_Data['Date_Time'] = pd.to_datetime(Combined_Final_Web_Data['Date_Time'], errors='coerce').fillna(pd.Timestamp('1900-01-01 00:00:00'))\n",
    "Combined_Final_Web_Data['Time_Difference'] = pd.to_timedelta(Combined_Final_Web_Data['Time_Difference'], errors='coerce').fillna(pd.Timedelta(0))  # Fill NaT with 0 days\n",
    "Combined_Final_Web_Data['Error_Indicator'] = Combined_Final_Web_Data['Error_Indicator'].astype('object')\n",
    "Combined_Final_Web_Data['Variation'] = Combined_Final_Web_Data['Variation'].astype('object')\n",
    "Combined_Final_Web_Data['Client_Tenure_Years'] = pd.to_numeric(Combined_Final_Web_Data['Client_Tenure_Years'], errors='coerce').fillna(0).astype('int64')\n",
    "Combined_Final_Web_Data['Client_Tenure_Montly'] = pd.to_numeric(Combined_Final_Web_Data['Client_Tenure_Montly'], errors='coerce').fillna(0).astype('int64')\n",
    "Combined_Final_Web_Data['Client_Age'] = pd.to_numeric(Combined_Final_Web_Data['Client_Age'], errors='coerce').fillna(0).astype('int64')\n",
    "Combined_Final_Web_Data['Client_Gender'] = Combined_Final_Web_Data['Client_Gender'].astype('object')\n",
    "Combined_Final_Web_Data['Number_of_Accounts'] = pd.to_numeric(Combined_Final_Web_Data['Number_of_Accounts'], errors='coerce').fillna(0).astype('int64')\n",
    "Combined_Final_Web_Data['Balance'] = pd.to_numeric(Combined_Final_Web_Data['Balance'], errors='coerce').fillna(0).astype('float64')\n",
    "Combined_Final_Web_Data['Calls_6_Monthly'] = pd.to_numeric(Combined_Final_Web_Data['Calls_6_Monthly'], errors='coerce').fillna(0).astype('int64')\n",
    "Combined_Final_Web_Data['Logons_6_Monthly'] = pd.to_numeric(Combined_Final_Web_Data['Logons_6_Monthly'], errors='coerce').fillna(0).astype('int64')\n",
    "\n"
   ]
  },
  {
   "cell_type": "code",
   "execution_count": 51,
   "metadata": {},
   "outputs": [
    {
     "name": "stdout",
     "output_type": "stream",
     "text": [
      "Data Types in Combined Final_Web_Data:\n",
      "+----------------------+-----------+\n",
      "|     Column Names     | Data Type |\n",
      "+----------------------+-----------+\n",
      "|      client_id       |   int64   |\n",
      "|      visitor_id      |  object   |\n",
      "|       visit_id       |  object   |\n",
      "|     process_step     |  object   |\n",
      "|      date_time       |  object   |\n",
      "|      Variation       |  object   |\n",
      "|   Time_Difference    |  object   |\n",
      "|    Count_in_Days     |  object   |\n",
      "|   Error_Indicator    |  float64  |\n",
      "|  Client Tenure Year  |  float64  |\n",
      "| Client Tenure Montly |  float64  |\n",
      "|      Client Age      |  float64  |\n",
      "|    Client Gender     |  object   |\n",
      "|      Num Accts       |  float64  |\n",
      "|       Balance        |  float64  |\n",
      "|   Calls 6 Monthly    |  float64  |\n",
      "|   Logons 6 Monthly   |  float64  |\n",
      "+----------------------+-----------+\n"
     ]
    }
   ],
   "source": [
    "print(\"Data Types in Combined Final_Web_Data:\")\n",
    "print(tabulate([[col, Combined_Final_Web_Data[col].dtype] for col in Combined_Final_Web_Data.columns], headers=[\"Column Names\", \"Data Type\"], tablefmt=\"pretty\"))\n",
    "\n"
   ]
  },
  {
   "cell_type": "code",
   "execution_count": 40,
   "metadata": {},
   "outputs": [],
   "source": [
    "Combined_Final_Web_Data.to_csv('cleaned_web_data-01.csv', index=False)"
   ]
  }
 ],
 "metadata": {
  "kernelspec": {
   "display_name": "Python 3",
   "language": "python",
   "name": "python3"
  },
  "language_info": {
   "codemirror_mode": {
    "name": "ipython",
    "version": 3
   },
   "file_extension": ".py",
   "mimetype": "text/x-python",
   "name": "python",
   "nbconvert_exporter": "python",
   "pygments_lexer": "ipython3",
   "version": "3.13.0"
  }
 },
 "nbformat": 4,
 "nbformat_minor": 2
}
