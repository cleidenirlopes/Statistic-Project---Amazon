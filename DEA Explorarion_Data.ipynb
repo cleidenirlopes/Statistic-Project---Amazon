{
 "cells": [
  {
   "cell_type": "markdown",
   "metadata": {},
   "source": [
    "# EDA and Data Cleaning"
   ]
  },
  {
   "cell_type": "markdown",
   "metadata": {},
   "source": [
    "### Merge the dataset part 1 and part 2"
   ]
  },
  {
   "cell_type": "markdown",
   "metadata": {},
   "source": [
    "### EDA  Exploratory Data Analises PART 01"
   ]
  },
  {
   "cell_type": "code",
   "execution_count": 1,
   "metadata": {},
   "outputs": [
    {
     "name": "stderr",
     "output_type": "stream",
     "text": [
      "C:\\Users\\cleid\\AppData\\Local\\Temp\\ipykernel_24136\\3111232378.py:11: DtypeWarning: Columns (6,10) have mixed types. Specify dtype option on import or set low_memory=False.\n",
      "  Final_Web_Data = pd.read_csv(r\"D:\\Project\\Statistic Project Amazon\\Statistic-Project---Amazon\\Final_Web_Data.csv\")\n"
     ]
    }
   ],
   "source": [
    "import pandas as pd\n",
    "import numpy as np\n",
    "from tabulate import tabulate\n",
    "import hashlib\n",
    "import os\n",
    "from datetime import datetime\n",
    "\n",
    "# Load the datasets\n",
    "# df_final_demo = pd.read_csv(r\"D:\\Project\\Statistic Project Amazon\\Statistic-Project---Amazon\\df_final_demo.csv\")\n",
    "# df_final_ex_clients = pd.read_csv(r\"D:\\Project\\Statistic Project Amazon\\Statistic-Project---Amazon\\df_final_experiment_clients.csv\")\n",
    "Final_Web_Data = pd.read_csv(r\"D:\\Project\\Statistic Project Amazon\\Statistic-Project---Amazon\\Final_Web_Data.csv\")\n",
    "\n"
   ]
  },
  {
   "cell_type": "markdown",
   "metadata": {},
   "source": [
    "### Display Column Names for Each Dataset"
   ]
  },
  {
   "cell_type": "code",
   "execution_count": 3,
   "metadata": {},
   "outputs": [
    {
     "name": "stdout",
     "output_type": "stream",
     "text": [
      "Columns in Final_Web_Data:\n",
      "+------------------------+\n",
      "|      Column Names      |\n",
      "+------------------------+\n",
      "|       Client ID        |\n",
      "|       Visitor ID       |\n",
      "|        Visit ID        |\n",
      "|      Process Step      |\n",
      "|          Date          |\n",
      "|          Time          |\n",
      "|       Variation        |\n",
      "| Client Tenure (Years)  |\n",
      "| Client Tenure (Months) |\n",
      "|       Client Age       |\n",
      "|         Gender         |\n",
      "|   Number of Accounts   |\n",
      "|        Balance         |\n",
      "|  Calls Last 6 Months   |\n",
      "|  Logons Last 6 Months  |\n",
      "+------------------------+\n"
     ]
    }
   ],
   "source": [
    "from tabulate import tabulate\n",
    "\n",
    "print(\"Columns in Final_Web_Data:\")\n",
    "print(tabulate([[col] for col in Final_Web_Data.columns], headers=[\"Column Names\"], tablefmt=\"pretty\"))\n"
   ]
  },
  {
   "cell_type": "code",
   "execution_count": 9,
   "metadata": {},
   "outputs": [
    {
     "name": "stdout",
     "output_type": "stream",
     "text": [
      "Data Types in Final_Web_Data:\n",
      "+------------------------+-----------+\n",
      "|      Column Names      | Data Type |\n",
      "+------------------------+-----------+\n",
      "|       Client ID        |   int64   |\n",
      "|       Visitor ID       |  object   |\n",
      "|        Visit ID        |  object   |\n",
      "|      Process Step      |  object   |\n",
      "|          Date          |  object   |\n",
      "|          Time          |  object   |\n",
      "|       Variation        |  object   |\n",
      "| Client Tenure (Years)  |  float64  |\n",
      "| Client Tenure (Months) |  float64  |\n",
      "|       Client Age       |  float64  |\n",
      "|         Gender         |  object   |\n",
      "|   Number of Accounts   |  float64  |\n",
      "|        Balance         |  float64  |\n",
      "|  Calls Last 6 Months   |  float64  |\n",
      "|  Logons Last 6 Months  |  float64  |\n",
      "+------------------------+-----------+\n"
     ]
    }
   ],
   "source": [
    "# Data Types\n",
    "\n",
    "print(\"Data Types in Final_Web_Data:\")\n",
    "print(tabulate([[col, Final_Web_Data[col].dtype] for col in Final_Web_Data.columns], headers=[\"Column Names\", \"Data Type\"], tablefmt=\"pretty\"))"
   ]
  },
  {
   "cell_type": "code",
   "execution_count": 59,
   "metadata": {},
   "outputs": [
    {
     "name": "stdout",
     "output_type": "stream",
     "text": [
      "     Client ID           Visitor ID                   Visit ID Process Step  \\\n",
      "0          169 20138505571273494528 74956710699161215609864192      confirm   \n",
      "1          169 20138505571273494528 74956710699161215609864192       step_3   \n",
      "2          169 20138505571273494528 74956710699161215609864192       step_2   \n",
      "3          169 20138505571273494528 74956710699161215609864192       step_1   \n",
      "4          169 20138505571273494528 74956710699161215609864192        start   \n",
      "...        ...                  ...                        ...          ...   \n",
      "6401    138177 21151726465989115904 94067213425262954178150400        start   \n",
      "6402    138177 21151726465989115904 94067213425262954178150400        start   \n",
      "6403    138214 50704117739939930112  4654783924993835164237824       step_2   \n",
      "6404    138214 50704117739939930112  4654783924993835164237824       step_1   \n",
      "6405    138214 50704117739939930112  4654783924993835164237824        start   \n",
      "\n",
      "           Date       Time Variation  Client Tenure (Years)  \\\n",
      "0     12/04/2017  20:23:09       nan                     21   \n",
      "1     12/04/2017  20:22:05       nan                     21   \n",
      "2     12/04/2017  20:20:31       nan                     21   \n",
      "3     12/04/2017  20:19:45       nan                     21   \n",
      "4     12/04/2017  20:19:36       nan                     21   \n",
      "...          ...       ...       ...                    ...   \n",
      "6401  02/05/2017  17:58:41       nan                     11   \n",
      "6402  02/05/2017  17:58:41       nan                     11   \n",
      "6403  05/04/2017  10:34:34       nan                      4   \n",
      "6404  05/04/2017  10:34:30       nan                      4   \n",
      "6405  05/04/2017  10:34:22       nan                      4   \n",
      "\n",
      "      Client Tenure (Months)  Client Age Gender  Number of Accounts  Balance  \\\n",
      "0                        262          48      M                   2   501571   \n",
      "1                        262          48      M                   2   501571   \n",
      "2                        262          48      M                   2   501571   \n",
      "3                        262          48      M                   2   501571   \n",
      "4                        262          48      M                   2   501571   \n",
      "...                      ...         ...    ...                 ...      ...   \n",
      "6401                     135          17      F                   3    27424   \n",
      "6402                     135          17      F                   3    27424   \n",
      "6403                      59          28      U                   2    48112   \n",
      "6404                      59          28      U                   2    48112   \n",
      "6405                      59          28      U                   2    48112   \n",
      "\n",
      "      Calls Last 6 Months  Logons Last 6 Months  \n",
      "0                       4                     4  \n",
      "1                       4                     4  \n",
      "2                       4                     4  \n",
      "3                       4                     4  \n",
      "4                       4                     4  \n",
      "...                   ...                   ...  \n",
      "6401                    7                     7  \n",
      "6402                    7                     7  \n",
      "6403                    5                     5  \n",
      "6404                    5                     5  \n",
      "6405                    5                     5  \n",
      "\n",
      "[6406 rows x 15 columns]\n"
     ]
    }
   ],
   "source": [
    "# Method 1: Using dropna\n",
    "Final_Web_Data = Final_Web_Data.dropna()\n",
    "\n",
    "# OR Method 2: More specific filtering\n",
    "Final_Web_Data = Final_Web_Data[Final_Web_Data.iloc[:, 1] != 'nan']\n",
    "\n",
    "# OR Method 3: Using boolean indexing\n",
    "Final_Web_Data = Final_Web_Data[~(Final_Web_Data.iloc[:, 1] == 'nan')]\n",
    "\n",
    "# Reset the index after filtering\n",
    "Final_Web_Data = Final_Web_Data.reset_index(drop=True)\n",
    "\n",
    "# Print the result to verify\n",
    "print(Final_Web_Data)\n",
    "\n",
    "# Save the cleaned data\n",
    "Final_Web_Data.to_csv('final_cleaned_web_data.csv', index=False)\n"
   ]
  },
  {
   "cell_type": "code",
   "execution_count": 54,
   "metadata": {},
   "outputs": [
    {
     "name": "stdout",
     "output_type": "stream",
     "text": [
      "+------------------------+-----------+\n",
      "|      Column Names      | Data Type |\n",
      "+------------------------+-----------+\n",
      "|       Client ID        |  string   |\n",
      "|       Visitor ID       |  float64  |\n",
      "|        Visit ID        |  float64  |\n",
      "|      Process Step      |  object   |\n",
      "|          Date          |  object   |\n",
      "|          Time          |  object   |\n",
      "|       Variation        |  object   |\n",
      "| Client Tenure (Years)  |  float64  |\n",
      "| Client Tenure (Months) |  float64  |\n",
      "|       Client Age       |  float64  |\n",
      "|         Gender         |  object   |\n",
      "|   Number of Accounts   |   int64   |\n",
      "|        Balance         |  float64  |\n",
      "|  Calls Last 6 Months   |   int64   |\n",
      "|  Logons Last 6 Months  |   int64   |\n",
      "+------------------------+-----------+\n"
     ]
    }
   ],
   "source": [
    "# Import pandas\n",
    "import pandas as pd\n",
    "\n",
    "# Define conversion dictionary\n",
    "convert_dict = {\n",
    "    'Client ID': 'int64',\n",
    "    'Visitor ID': 'float64',\n",
    "    'Visit ID': 'float64',\n",
    "    'Process Step': 'object',\n",
    "    'Variation': 'str',\n",
    "    'Gender': 'str',\n",
    "    'Client Tenure (Years)': 'float64',\n",
    "    'Client Tenure (Months)': 'float64',\n",
    "    'Client Age': 'float64',\n",
    "    'Number of Accounts': 'int64',\n",
    "    'Balance': 'float64',\n",
    "    'Calls Last 6 Months': 'int64',\n",
    "    'Logons Last 6 Months': 'int64',\n",
    "}\n",
    "\n",
    "# Apply conversions with error handling\n",
    "for col, dtype in convert_dict.items():\n",
    "    if col in Final_Web_Data.columns:\n",
    "        try:\n",
    "            Final_Web_Data[col] = Final_Web_Data[col].astype(dtype)\n",
    "        except ValueError as e:\n",
    "            print(f\"Could not convert column {col} to {dtype}: {e}\")\n",
    "\n",
    "# Handle Date column\n",
    "if 'Date' in Final_Web_Data.columns:\n",
    "    Final_Web_Data['Date'] = pd.to_datetime(Final_Web_Data['Date'], errors='coerce')\n",
    "\n",
    "# Handle Time column\n",
    "if 'Time' in Final_Web_Data.columns:\n",
    "    Final_Web_Data['Time'] = pd.to_datetime(Final_Web_Data['Time'], format='%H:%M:%S', errors='coerce').dt.time\n",
    "\n",
    "    # Import pandas if not already imported\n",
    "import pandas as pd\n",
    "\n",
    "# Set display options to show full numbers\n",
    "pd.set_option('display.float_format', lambda x: '%.0f' % x)\n",
    "pd.set_option('display.max_columns', None)\n",
    "\n",
    "# Convert the columns to int64 or string to avoid scientific notation\n",
    "# Assuming the column with scientific notation is 'Client ID' or similar\n",
    "Final_Web_Data['Client ID'] = Final_Web_Data['Client ID'].astype('int64')\n",
    "# Or if the numbers are too large for int64, use string\n",
    "Final_Web_Data['Client ID'] = Final_Web_Data['Client ID'].astype('string')\n",
    "\n",
    "# Save to CSV with these settings\n",
    "Final_Web_Data.to_csv('final_cleaned_web_data.csv', \n",
    "                     index=False,\n",
    "                     float_format='%.0f')  # This ensures full numbers in CSV\n",
    "\n",
    "\n",
    "print(tabulate([[col, Final_Web_Data[col].dtype] for col in Final_Web_Data.columns], headers=[\"Column Names\", \"Data Type\"], tablefmt=\"pretty\"))\n",
    "\n"
   ]
  },
  {
   "cell_type": "code",
   "execution_count": 58,
   "metadata": {},
   "outputs": [],
   "source": [
    "Final_Web_Data.to_csv('cleaned_web_data.csv', index=False)"
   ]
  }
 ],
 "metadata": {
  "kernelspec": {
   "display_name": "Python 3",
   "language": "python",
   "name": "python3"
  },
  "language_info": {
   "codemirror_mode": {
    "name": "ipython",
    "version": 3
   },
   "file_extension": ".py",
   "mimetype": "text/x-python",
   "name": "python",
   "nbconvert_exporter": "python",
   "pygments_lexer": "ipython3",
   "version": "3.13.0"
  }
 },
 "nbformat": 4,
 "nbformat_minor": 2
}
